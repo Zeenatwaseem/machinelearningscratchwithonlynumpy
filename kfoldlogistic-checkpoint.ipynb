{
 "cells": [
  {
   "cell_type": "code",
   "execution_count": 30,
   "id": "bf35360b",
   "metadata": {},
   "outputs": [
    {
     "name": "stdout",
     "output_type": "stream",
     "text": [
      "  Species  Weight  Length1  Length2  Length3   Height   Width\n",
      "0   Bream   242.0     23.2     25.4     30.0  11.5200  4.0200\n",
      "1   Bream   290.0     24.0     26.3     31.2  12.4800  4.3056\n",
      "2   Bream   340.0     23.9     26.5     31.1  12.3778  4.6961\n",
      "3   Bream   363.0     26.3     29.0     33.5  12.7300  4.4555\n",
      "4   Bream   430.0     26.5     29.0     34.0  12.4440  5.1340\n"
     ]
    }
   ],
   "source": [
    "import pandas as pd\n",
    "from sklearn.model_selection import KFold \n",
    "from sklearn.linear_model import LogisticRegression\n",
    "from sklearn.metrics import accuracy_score\n",
    "from sklearn.linear_model import LogisticRegression\n",
    "#Loading the dataset\n",
    "from sklearn import preprocessing\n",
    "le = preprocessing.LabelEncoder()\n",
    "df = pd.read_csv('Fish.csv')\n",
    "import warnings\n",
    "warnings.filterwarnings(\"ignore\")\n",
    "\n",
    "print(df.head())"
   ]
  },
  {
   "cell_type": "code",
   "execution_count": 31,
   "id": "84811924",
   "metadata": {},
   "outputs": [
    {
     "data": {
      "text/plain": [
       "array([0, 0, 0, 0, 0, 0, 0, 0, 0, 0, 0, 0, 0, 0, 0, 0, 0, 0, 0, 0, 0, 0,\n",
       "       0, 0, 0, 0, 0, 0, 0, 0, 0, 0, 0, 0, 0, 4, 4, 4, 4, 4, 4, 4, 4, 4,\n",
       "       4, 4, 4, 4, 4, 4, 4, 4, 4, 4, 4, 6, 6, 6, 6, 6, 6, 1, 1, 1, 1, 1,\n",
       "       1, 1, 1, 1, 1, 1, 2, 2, 2, 2, 2, 2, 2, 2, 2, 2, 2, 2, 2, 2, 2, 2,\n",
       "       2, 2, 2, 2, 2, 2, 2, 2, 2, 2, 2, 2, 2, 2, 2, 2, 2, 2, 2, 2, 2, 2,\n",
       "       2, 2, 2, 2, 2, 2, 2, 2, 2, 2, 2, 2, 2, 2, 2, 2, 2, 2, 3, 3, 3, 3,\n",
       "       3, 3, 3, 3, 3, 3, 3, 3, 3, 3, 3, 3, 3, 5, 5, 5, 5, 5, 5, 5, 5, 5,\n",
       "       5, 5, 5, 5, 5])"
      ]
     },
     "execution_count": 31,
     "metadata": {},
     "output_type": "execute_result"
    }
   ],
   "source": [
    "X = df.drop(\"Species\",1)   #Feature Matrix\n",
    "y = le.fit_transform(df['Species']) #Target Variable\n",
    "X=X.to_numpy()\n",
    "y"
   ]
  },
  {
   "cell_type": "code",
   "execution_count": 32,
   "id": "c2f430e4",
   "metadata": {},
   "outputs": [],
   "source": [
    "from sklearn.model_selection import train_test_split\n",
    "X_train, X_test, y_train, y_test = train_test_split(X, y, test_size=0.5)"
   ]
  },
  {
   "cell_type": "code",
   "execution_count": 33,
   "id": "bd6643e3",
   "metadata": {},
   "outputs": [],
   "source": [
    "from sklearn.model_selection import KFold \n",
    "from sklearn.linear_model import LogisticRegression\n",
    "from sklearn.metrics import accuracy_score\n",
    "from sklearn.linear_model import LogisticRegression"
   ]
  },
  {
   "cell_type": "code",
   "execution_count": 34,
   "id": "2c338a7b",
   "metadata": {},
   "outputs": [],
   "source": [
    "logreg=LogisticRegression()"
   ]
  },
  {
   "cell_type": "code",
   "execution_count": 35,
   "id": "15ca503c",
   "metadata": {},
   "outputs": [
    {
     "data": {
      "text/plain": [
       "LogisticRegression()"
      ]
     },
     "execution_count": 35,
     "metadata": {},
     "output_type": "execute_result"
    }
   ],
   "source": [
    "logreg.fit(X_train,y_train)"
   ]
  },
  {
   "cell_type": "code",
   "execution_count": 36,
   "id": "a9a9138f",
   "metadata": {},
   "outputs": [],
   "source": [
    "y_pred=logreg.predict(X_test)"
   ]
  },
  {
   "cell_type": "code",
   "execution_count": 37,
   "id": "6296c8a4",
   "metadata": {},
   "outputs": [],
   "source": [
    "from sklearn.metrics import precision_score, recall_score, f1_score, accuracy_score,classification_report,confusion_matrix"
   ]
  },
  {
   "cell_type": "code",
   "execution_count": 38,
   "id": "6e35607c",
   "metadata": {},
   "outputs": [
    {
     "name": "stdout",
     "output_type": "stream",
     "text": [
      "[[19  0  0  0  0  0  0]\n",
      " [ 3  1  0  0  4  0  0]\n",
      " [ 0  2 20  0  0  0  0]\n",
      " [ 0  0  0 10  0  0  0]\n",
      " [ 0  0  5  0  3  1  0]\n",
      " [ 0  0  0  0  0  9  0]\n",
      " [ 0  0  3  0  0  0  0]]\n"
     ]
    }
   ],
   "source": [
    "# import the metrics class\n",
    "from sklearn import metrics\n",
    "print(confusion_matrix(y_test,y_pred))"
   ]
  },
  {
   "cell_type": "code",
   "execution_count": 39,
   "id": "1e6ccd13",
   "metadata": {},
   "outputs": [
    {
     "name": "stdout",
     "output_type": "stream",
     "text": [
      "              precision    recall  f1-score   support\n",
      "\n",
      "           0    0.86364   1.00000   0.92683        19\n",
      "           1    0.33333   0.12500   0.18182         8\n",
      "           2    0.71429   0.90909   0.80000        22\n",
      "           3    1.00000   1.00000   1.00000        10\n",
      "           4    0.42857   0.33333   0.37500         9\n",
      "           5    0.90000   1.00000   0.94737         9\n",
      "           6    0.00000   0.00000   0.00000         3\n",
      "\n",
      "    accuracy                        0.77500        80\n",
      "   macro avg    0.60569   0.62392   0.60443        80\n",
      "weighted avg    0.70934   0.77500   0.73207        80\n",
      "\n"
     ]
    }
   ],
   "source": [
    "from sklearn.metrics import classification_report\n",
    "print(classification_report(y_test, y_pred,digits=5))"
   ]
  },
  {
   "cell_type": "code",
   "execution_count": 40,
   "id": "31461db2",
   "metadata": {},
   "outputs": [
    {
     "name": "stdout",
     "output_type": "stream",
     "text": [
      "[[2 1 0 0]\n",
      " [0 0 0 0]\n",
      " [0 0 6 2]\n",
      " [0 0 3 2]]\n",
      "              precision    recall  f1-score   support\n",
      "\n",
      "           0       1.00      0.67      0.80         3\n",
      "           1       0.00      0.00      0.00         0\n",
      "           2       0.67      0.75      0.71         8\n",
      "           4       0.50      0.40      0.44         5\n",
      "\n",
      "    accuracy                           0.62        16\n",
      "   macro avg       0.54      0.45      0.49        16\n",
      "weighted avg       0.68      0.62      0.64        16\n",
      "\n"
     ]
    }
   ],
   "source": [
    "#for 10:1 test_train_split\n",
    "X_train, X_test, y_train, y_test = train_test_split(X, y, test_size=0.1)\n",
    "model = logreg.fit(X_train, y_train)\n",
    "Y_pred = model.predict(X_test)\n",
    "Y_pred = model.predict(X_test)\n",
    "print(confusion_matrix(y_test,Y_pred))\n",
    "print(classification_report(y_test,Y_pred))\n"
   ]
  },
  {
   "cell_type": "code",
   "execution_count": 41,
   "id": "156febbf",
   "metadata": {},
   "outputs": [
    {
     "name": "stdout",
     "output_type": "stream",
     "text": [
      "kfold  precision  accuracy  recall  f_score\n",
      "0 0.5 0.03125 0.015625 0.030303030303030304\n",
      "1 0.3333333333333333 0.1875 0.3333333333333333 0.3333333333333333\n",
      "2 0.0 0.0 0.0 0.0\n",
      "3 0.25 0.09375 0.0234375 0.04285714285714286\n",
      "4 0.0 0.0 0.0 0.0\n"
     ]
    }
   ],
   "source": [
    "from sklearn.model_selection import KFold\n",
    "k_fold = KFold(5)\n",
    "print('kfold  precision  accuracy  recall  f_score')\n",
    "for k, (train, test) in enumerate(k_fold.split(X, y)):\n",
    "    model=logreg.fit(X[train], y[train])\n",
    "    Y_pred =model.predict(X[test]) \n",
    "    print( \n",
    "            k, precision_score(y[test], Y_pred,average='macro'),accuracy_score(y[test], Y_pred),recall_score(y[test], Y_pred, average='macro'),f1_score(y[test], Y_pred,average='macro')\n",
    "        )\n",
    "    \n"
   ]
  },
  {
   "cell_type": "code",
   "execution_count": 42,
   "id": "85b52023",
   "metadata": {},
   "outputs": [
    {
     "name": "stdout",
     "output_type": "stream",
     "text": [
      "kfold  precision  accuracy  recall  f_score\n",
      "0 0.3333333333333333 0.8125 0.2708333333333333 0.2988505747126437\n",
      "1 1.0 1.0 1.0 1.0\n",
      "2 0.2 0.1875 0.2 0.2\n",
      "3 0.0 0.0 0.0 0.0\n",
      "4 0.0 0.0 0.0 0.0\n",
      "5 0.5 0.1875 0.09375 0.15789473684210525\n",
      "6 1.0 1.0 1.0 1.0\n",
      "7 0.5 0.0625 0.03125 0.058823529411764705\n",
      "8 0.0 0.0 0.0 0.0\n",
      "9 0.3333333333333333 0.06666666666666667 0.3333333333333333 0.3333333333333333\n"
     ]
    }
   ],
   "source": [
    "k_fold = KFold(10)\n",
    "print('kfold  precision  accuracy  recall  f_score')\n",
    "for k, (train, test) in enumerate(k_fold.split(X, y)):\n",
    "    model=logreg.fit(X[train], y[train])\n",
    "    Y_pred =model.predict(X[test]) \n",
    "    print( \n",
    "            k, precision_score(y[test], Y_pred,average='macro'),accuracy_score(y[test], Y_pred),recall_score(y[test], Y_pred, average='macro'),f1_score(y[test], Y_pred,average='macro')\n",
    "        )"
   ]
  },
  {
   "cell_type": "code",
   "execution_count": 43,
   "id": "b9023000",
   "metadata": {},
   "outputs": [],
   "source": [
    "import numpy as np"
   ]
  },
  {
   "cell_type": "code",
   "execution_count": 44,
   "id": "40d94be2",
   "metadata": {},
   "outputs": [],
   "source": [
    "#input values\n",
    "input_value=np.array([[0,0],[0,1],[1,1],[1,0]])"
   ]
  },
  {
   "cell_type": "code",
   "execution_count": 52,
   "id": "b3f6b4dc",
   "metadata": {},
   "outputs": [
    {
     "data": {
      "text/plain": [
       "array([[0, 0],\n",
       "       [0, 1],\n",
       "       [1, 1],\n",
       "       [1, 0]])"
      ]
     },
     "execution_count": 52,
     "metadata": {},
     "output_type": "execute_result"
    }
   ],
   "source": [
    "\n",
    "t=np.array([0,1,1,1])\n",
    "input_value"
   ]
  },
  {
   "cell_type": "code",
   "execution_count": 54,
   "id": "eb72646a",
   "metadata": {},
   "outputs": [
    {
     "data": {
      "text/plain": [
       "array([[0],\n",
       "       [1],\n",
       "       [1],\n",
       "       [1]])"
      ]
     },
     "execution_count": 54,
     "metadata": {},
     "output_type": "execute_result"
    }
   ],
   "source": [
    "t.reshape(4,1)"
   ]
  },
  {
   "cell_type": "code",
   "execution_count": 46,
   "id": "ffba6ef7",
   "metadata": {},
   "outputs": [],
   "source": [
    "import math\n",
    "def sigmoid(input):\n",
    "    output=1/1+np.exp(-input)\n",
    "    return output"
   ]
  },
  {
   "cell_type": "code",
   "execution_count": 48,
   "id": "35dc6c28",
   "metadata": {},
   "outputs": [],
   "source": [
    "\n",
    "def sigmoidderivative(input):\n",
    "    output=1/(1-input)\n",
    "    return output"
   ]
  },
  {
   "cell_type": "code",
   "execution_count": 56,
   "id": "fb5eddd9",
   "metadata": {},
   "outputs": [],
   "source": [
    "w=np.array([[0.1],[0.2]])"
   ]
  },
  {
   "cell_type": "code",
   "execution_count": null,
   "id": "7521e263",
   "metadata": {},
   "outputs": [],
   "source": []
  },
  {
   "cell_type": "code",
   "execution_count": null,
   "id": "a2a8e078",
   "metadata": {},
   "outputs": [],
   "source": []
  },
  {
   "cell_type": "code",
   "execution_count": null,
   "id": "1c904395",
   "metadata": {},
   "outputs": [],
   "source": []
  },
  {
   "cell_type": "code",
   "execution_count": null,
   "id": "6c3535ad",
   "metadata": {},
   "outputs": [],
   "source": []
  },
  {
   "cell_type": "code",
   "execution_count": null,
   "id": "616b3847",
   "metadata": {},
   "outputs": [],
   "source": []
  },
  {
   "cell_type": "code",
   "execution_count": null,
   "id": "998481f6",
   "metadata": {},
   "outputs": [],
   "source": []
  },
  {
   "cell_type": "code",
   "execution_count": null,
   "id": "3b26a51a",
   "metadata": {},
   "outputs": [],
   "source": []
  },
  {
   "cell_type": "code",
   "execution_count": null,
   "id": "a591cf7e",
   "metadata": {},
   "outputs": [],
   "source": []
  },
  {
   "cell_type": "code",
   "execution_count": null,
   "id": "3360a70c",
   "metadata": {},
   "outputs": [],
   "source": []
  },
  {
   "cell_type": "code",
   "execution_count": null,
   "id": "86fd75a8",
   "metadata": {},
   "outputs": [],
   "source": []
  },
  {
   "cell_type": "code",
   "execution_count": null,
   "id": "d3d6c802",
   "metadata": {},
   "outputs": [],
   "source": []
  },
  {
   "cell_type": "code",
   "execution_count": null,
   "id": "fc94a0ca",
   "metadata": {},
   "outputs": [],
   "source": []
  },
  {
   "cell_type": "code",
   "execution_count": null,
   "id": "a392e787",
   "metadata": {},
   "outputs": [],
   "source": []
  },
  {
   "cell_type": "code",
   "execution_count": null,
   "id": "915435b0",
   "metadata": {},
   "outputs": [],
   "source": []
  },
  {
   "cell_type": "code",
   "execution_count": null,
   "id": "f6fa4008",
   "metadata": {},
   "outputs": [],
   "source": []
  },
  {
   "cell_type": "code",
   "execution_count": null,
   "id": "d92b594b",
   "metadata": {},
   "outputs": [],
   "source": []
  },
  {
   "cell_type": "code",
   "execution_count": null,
   "id": "a5f42ce0",
   "metadata": {},
   "outputs": [],
   "source": []
  },
  {
   "cell_type": "code",
   "execution_count": null,
   "id": "7b8dd814",
   "metadata": {},
   "outputs": [],
   "source": []
  },
  {
   "cell_type": "code",
   "execution_count": null,
   "id": "08225c17",
   "metadata": {},
   "outputs": [],
   "source": []
  },
  {
   "cell_type": "code",
   "execution_count": null,
   "id": "27560ed6",
   "metadata": {},
   "outputs": [],
   "source": []
  },
  {
   "cell_type": "code",
   "execution_count": null,
   "metadata": {},
   "outputs": [],
   "source": []
  },
  {
   "cell_type": "code",
   "execution_count": 60,
   "id": "7ad07359",
   "metadata": {},
   "outputs": [
    {
     "data": {
      "text/plain": [
       "array([[0, 0],\n",
       "       [0, 1],\n",
       "       [1, 0],\n",
       "       [1, 0]])"
      ]
     },
     "execution_count": 60,
     "metadata": {},
     "output_type": "execute_result"
    }
   ],
   "source": [
    "arr=np.array([0,0,0,1,1,0,1,0])\n",
    "arr.reshape(4,2)"
   ]
  },
  {
   "cell_type": "code",
   "execution_count": 65,
   "id": "62bd94e5",
   "metadata": {},
   "outputs": [
    {
     "data": {
      "text/plain": [
       "array([[0],\n",
       "       [1],\n",
       "       [1],\n",
       "       [1]])"
      ]
     },
     "execution_count": 65,
     "metadata": {},
     "output_type": "execute_result"
    }
   ],
   "source": [
    "t=np.array([0,1,1,1])\n",
    "t.reshape(4,1)"
   ]
  },
  {
   "cell_type": "code",
   "execution_count": 62,
   "id": "6075b5bd",
   "metadata": {},
   "outputs": [
    {
     "data": {
      "text/plain": [
       "array([1, 1, 1, 1])"
      ]
     },
     "execution_count": 62,
     "metadata": {},
     "output_type": "execute_result"
    }
   ],
   "source": []
  },
  {
   "cell_type": "code",
   "execution_count": 68,
   "id": "6fd20285",
   "metadata": {},
   "outputs": [
    {
     "data": {
      "text/plain": [
       "array([[0.],\n",
       "       [0.]])"
      ]
     },
     "execution_count": 68,
     "metadata": {},
     "output_type": "execute_result"
    }
   ],
   "source": [
    "w = np.zeros( (2, 1) )\n",
    "w"
   ]
  },
  {
   "cell_type": "code",
   "execution_count": 69,
   "id": "e32d2cf1",
   "metadata": {},
   "outputs": [
    {
     "data": {
      "text/plain": [
       "array([0.])"
      ]
     },
     "execution_count": 69,
     "metadata": {},
     "output_type": "execute_result"
    }
   ],
   "source": [
    "w[0]"
   ]
  },
  {
   "cell_type": "code",
   "execution_count": null,
   "id": "022da6bd",
   "metadata": {},
   "outputs": [],
   "source": []
  },
  {
   "cell_type": "code",
   "execution_count": null,
   "id": "129e8ab4",
   "metadata": {},
   "outputs": [],
   "source": []
  }
 ],
 "metadata": {
  "interpreter": {
   "hash": "59553ecd444ac45b306ef4cf917906ee1e090f0cd110d592cae35eebc5ede51d"
  },
  "kernelspec": {
   "display_name": "Python 3.10.1 64-bit",
   "language": "python",
   "name": "python3"
  },
  "language_info": {
   "codemirror_mode": {
    "name": "ipython",
    "version": 3
   },
   "file_extension": ".py",
   "mimetype": "text/x-python",
   "name": "python",
   "nbconvert_exporter": "python",
   "pygments_lexer": "ipython3",
   "version": "3.10.1"
  }
 },
 "nbformat": 4,
 "nbformat_minor": 5
}
