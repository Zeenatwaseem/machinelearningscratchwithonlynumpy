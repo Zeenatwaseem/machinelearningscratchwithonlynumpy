{
 "cells": [
  {
   "cell_type": "code",
   "execution_count": 6,
   "id": "b61156ac",
   "metadata": {},
   "outputs": [],
   "source": [
    "import numpy as np\n",
    "import math\n",
    "import csv\n",
    "\n"
   ]
  },
  {
   "cell_type": "code",
   "execution_count": 7,
   "id": "096a439f",
   "metadata": {},
   "outputs": [],
   "source": [
    "def read_data(filename):\n",
    "\n",
    "    with open(filename,'r') as csvfile:\n",
    "        datareader = csv.reader(csvfile)\n",
    "        metadata = next(datareader)\n",
    "        traindata=[]\n",
    "        for row in datareader:\n",
    "            traindata.append(row)\n",
    "\n",
    "    return (metadata, traindata)"
   ]
  },
  {
   "cell_type": "code",
   "execution_count": 8,
   "id": "946b745f",
   "metadata": {},
   "outputs": [],
   "source": [
    "def splitDataset(dataset, splitRatio):\n",
    "    trainSize = int(len(dataset) * splitRatio)\n",
    "    trainSet = []\n",
    "    testset = list(dataset)\n",
    "    i=0\n",
    "    while len(trainSet) < trainSize:\n",
    "        trainSet.append(testset.pop(i))\n",
    "    return [trainSet, testset]\n"
   ]
  },
  {
   "cell_type": "code",
   "execution_count": 10,
   "id": "48a1cb06",
   "metadata": {},
   "outputs": [],
   "source": [
    "def classify(data,test):\n",
    "\n",
    "    total_size = data.shape[0]\n",
    "    print(\"\\n\")\n",
    "    print(\"training data size=\",total_size)\n",
    "    print(\"test data size=\",test.shape[0])\n",
    "\n",
    "    countYes = 0\n",
    "    countNo = 0\n",
    "    probYes = 0\n",
    "    probNo = 0\n",
    "    print(\"\\n\")\n",
    "    print(\"target    count    probability\")\n",
    "\n",
    "    for x in range(data.shape[0]):\n",
    "        if data[x,data.shape[1]-1] == 'yes':\n",
    "            countYes +=1\n",
    "        if data[x,data.shape[1]-1] == 'no':\n",
    "            countNo +=1\n",
    "\n",
    "    probYes=countYes/total_size\n",
    "    probNo= countNo / total_size\n",
    "\n",
    "    print('Yes',\"\\t\",countYes,\"\\t\",probYes)\n",
    "    print('No',\"\\t\",countNo,\"\\t\",probNo)\n",
    "\n",
    "\n",
    "    prob0 =np.zeros((test.shape[1]-1))\n",
    "    prob1 =np.zeros((test.shape[1]-1))\n",
    "    accuracy=0\n",
    "    print(\"\\n\")\n",
    "    print(\"predict\")\n",
    "\n",
    "    for t in range(test.shape[0]):\n",
    "        for k in range (test.shape[1]-1):\n",
    "            count1=count0=0\n",
    "            for j in range (data.shape[0]):\n",
    "                #how many times appeared with no\n",
    "                if test[t,k] == data[j,k] and data[j,data.shape[1]-1]=='no':\n",
    "                    count0+=1\n",
    "                #how many times appeared with yes\n",
    "                if test[t,k]==data[j,k] and data[j,data.shape[1]-1]=='yes':\n",
    "                    count1+=1\n",
    "            prob0[k]=count0/countNo\n",
    "            prob1[k]=count1/countYes\n",
    "\n",
    "        probno=probNo\n",
    "        probyes=probYes\n",
    "        for i in range(test.shape[1]-1):\n",
    "            probno=probno*prob0[i]\n",
    "            probyes=probyes*prob1[i]\n",
    "        if probno>probyes:\n",
    "            predict='no'\n",
    "        else:\n",
    "            predict='yes'\n",
    "\n",
    "        print(t+1,\"\\t\",predict,\"\\t    \",test[t,test.shape[1]-1])\n",
    "        if predict == test[t,test.shape[1]-1]:\n",
    "            accuracy+=1\n",
    "    final_accuracy=(accuracy/test.shape[0])*100\n",
    "    print(\"accuracy\",final_accuracy,\"%\")\n",
    "    return"
   ]
  },
  {
   "cell_type": "code",
   "execution_count": 11,
   "id": "fa3196b6",
   "metadata": {},
   "outputs": [
    {
     "name": "stdout",
     "output_type": "stream",
     "text": [
      "\n",
      " The Training data set are:\n",
      "['sunny', 'hot', 'high', 'false', 'no']\n",
      "['sunny', 'hot', 'high', 'true', 'no']\n",
      "['overcast', 'hot', 'high', 'false', 'yes']\n",
      "['rainy', 'mild', 'high', 'false', 'yes']\n"
     ]
    }
   ],
   "source": [
    "metadata,traindata= read_data(\"C://Users//tennis.csv\")\n",
    "splitRatio=0.3\n",
    "trainingset, testset=splitDataset(traindata, splitRatio)\n",
    "training=np.array(trainingset)\n",
    "print(\"\\n The Training data set are:\")\n",
    "for x in trainingset:\n",
    "    print(x)"
   ]
  },
  {
   "cell_type": "code",
   "execution_count": 12,
   "id": "8247ef89",
   "metadata": {},
   "outputs": [
    {
     "name": "stdout",
     "output_type": "stream",
     "text": [
      "\n",
      " The Test data set are:\n",
      "['rainy' 'cool' 'normal' 'false' 'yes']\n",
      "['rainy' 'cool' 'normal' 'true' 'no']\n",
      "['overcast' 'cool' 'normal' 'true' 'yes']\n",
      "['sunny' 'mild' 'high' 'false' 'no']\n",
      "['sunny' 'cool' 'normal' 'false' 'yes']\n",
      "['rainy' 'mild' 'normal' 'false' 'yes']\n",
      "['sunny' 'mild' 'normal' 'true' 'yes']\n",
      "['overcast' 'mild' 'high' 'true' 'yes']\n",
      "['overcast' 'hot' 'normal' 'false' 'yes']\n",
      "['rainy' 'mild' 'high' 'true' 'no']\n",
      "\n",
      "\n",
      "training data size= 4\n",
      "test data size= 10\n",
      "\n",
      "\n",
      "target    count    probability\n",
      "Yes \t 2 \t 0.5\n",
      "No \t 2 \t 0.5\n",
      "\n",
      "\n",
      "predict\n",
      "1 \t yes \t     yes\n",
      "2 \t yes \t     no\n",
      "3 \t yes \t     yes\n",
      "4 \t yes \t     no\n",
      "5 \t yes \t     yes\n",
      "6 \t yes \t     yes\n",
      "7 \t yes \t     yes\n",
      "8 \t yes \t     yes\n",
      "9 \t yes \t     yes\n",
      "10 \t yes \t     no\n",
      "accuracy 70.0 %\n"
     ]
    }
   ],
   "source": [
    "testing=np.array(testset)\n",
    "print(\"\\n The Test data set are:\")\n",
    "for x in testing:\n",
    "    print(x)\n",
    "classify(training,testing)\n"
   ]
  },
  {
   "cell_type": "code",
   "execution_count": null,
   "id": "3fdaae74",
   "metadata": {},
   "outputs": [],
   "source": []
  }
 ],
 "metadata": {
  "kernelspec": {
   "display_name": "Python 3 (ipykernel)",
   "language": "python",
   "name": "python3"
  },
  "language_info": {
   "codemirror_mode": {
    "name": "ipython",
    "version": 3
   },
   "file_extension": ".py",
   "mimetype": "text/x-python",
   "name": "python",
   "nbconvert_exporter": "python",
   "pygments_lexer": "ipython3",
   "version": "3.10.1"
  }
 },
 "nbformat": 4,
 "nbformat_minor": 5
}
