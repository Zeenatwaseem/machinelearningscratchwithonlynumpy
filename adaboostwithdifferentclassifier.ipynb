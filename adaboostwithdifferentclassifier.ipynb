{
 "cells": [
  {
   "cell_type": "code",
   "execution_count": 501,
   "id": "b0bcbc1a",
   "metadata": {},
   "outputs": [],
   "source": [
    "from sklearn.ensemble import AdaBoostClassifier"
   ]
  },
  {
   "cell_type": "code",
   "execution_count": 502,
   "id": "41fdc19a",
   "metadata": {},
   "outputs": [],
   "source": [
    "dict={}"
   ]
  },
  {
   "cell_type": "code",
   "execution_count": 503,
   "id": "3f4dec03",
   "metadata": {},
   "outputs": [],
   "source": [
    "import pandas as pd\n",
    "import numpy as np\n",
    "import warnings\n",
    "warnings.filterwarnings('ignore')"
   ]
  },
  {
   "cell_type": "code",
   "execution_count": 504,
   "id": "be1f56c7",
   "metadata": {},
   "outputs": [],
   "source": [
    "i = pd.read_csv('odd.csv') "
   ]
  },
  {
   "cell_type": "code",
   "execution_count": 505,
   "id": "048ef1e7",
   "metadata": {},
   "outputs": [
    {
     "data": {
      "text/html": [
       "<div>\n",
       "<style scoped>\n",
       "    .dataframe tbody tr th:only-of-type {\n",
       "        vertical-align: middle;\n",
       "    }\n",
       "\n",
       "    .dataframe tbody tr th {\n",
       "        vertical-align: top;\n",
       "    }\n",
       "\n",
       "    .dataframe thead th {\n",
       "        text-align: right;\n",
       "    }\n",
       "</style>\n",
       "<table border=\"1\" class=\"dataframe\">\n",
       "  <thead>\n",
       "    <tr style=\"text-align: right;\">\n",
       "      <th></th>\n",
       "      <th>Species</th>\n",
       "      <th>Weight</th>\n",
       "      <th>Length2</th>\n",
       "      <th>Length3</th>\n",
       "      <th>Height</th>\n",
       "      <th>Width</th>\n",
       "    </tr>\n",
       "  </thead>\n",
       "  <tbody>\n",
       "    <tr>\n",
       "      <th>0</th>\n",
       "      <td>Bream</td>\n",
       "      <td>242.0</td>\n",
       "      <td>25.4</td>\n",
       "      <td>30.0</td>\n",
       "      <td>11.5200</td>\n",
       "      <td>4.0200</td>\n",
       "    </tr>\n",
       "    <tr>\n",
       "      <th>1</th>\n",
       "      <td>Bream</td>\n",
       "      <td>290.0</td>\n",
       "      <td>26.3</td>\n",
       "      <td>31.2</td>\n",
       "      <td>12.4800</td>\n",
       "      <td>4.3056</td>\n",
       "    </tr>\n",
       "    <tr>\n",
       "      <th>2</th>\n",
       "      <td>Bream</td>\n",
       "      <td>340.0</td>\n",
       "      <td>26.5</td>\n",
       "      <td>31.1</td>\n",
       "      <td>12.3778</td>\n",
       "      <td>4.6961</td>\n",
       "    </tr>\n",
       "    <tr>\n",
       "      <th>3</th>\n",
       "      <td>Bream</td>\n",
       "      <td>363.0</td>\n",
       "      <td>29.0</td>\n",
       "      <td>33.5</td>\n",
       "      <td>12.7300</td>\n",
       "      <td>4.4555</td>\n",
       "    </tr>\n",
       "    <tr>\n",
       "      <th>4</th>\n",
       "      <td>Bream</td>\n",
       "      <td>430.0</td>\n",
       "      <td>29.0</td>\n",
       "      <td>34.0</td>\n",
       "      <td>12.4440</td>\n",
       "      <td>5.1340</td>\n",
       "    </tr>\n",
       "  </tbody>\n",
       "</table>\n",
       "</div>"
      ],
      "text/plain": [
       "  Species  Weight  Length2  Length3   Height   Width\n",
       "0   Bream   242.0     25.4     30.0  11.5200  4.0200\n",
       "1   Bream   290.0     26.3     31.2  12.4800  4.3056\n",
       "2   Bream   340.0     26.5     31.1  12.3778  4.6961\n",
       "3   Bream   363.0     29.0     33.5  12.7300  4.4555\n",
       "4   Bream   430.0     29.0     34.0  12.4440  5.1340"
      ]
     },
     "execution_count": 505,
     "metadata": {},
     "output_type": "execute_result"
    }
   ],
   "source": [
    "i.head(5)"
   ]
  },
  {
   "cell_type": "code",
   "execution_count": 506,
   "id": "92884767",
   "metadata": {},
   "outputs": [],
   "source": [
    "X = i.iloc[:,2:6].values\n",
    "y = i.iloc[:,:1].values"
   ]
  },
  {
   "cell_type": "code",
   "execution_count": 507,
   "id": "3e10c92c",
   "metadata": {},
   "outputs": [],
   "source": [
    "from sklearn.model_selection import train_test_split\n",
    "# Split dataset into training set and test set\n",
    "X_train, X_test, y_train, y_test = train_test_split(X, y, test_size=0.3)"
   ]
  },
  {
   "cell_type": "markdown",
   "id": "e115e985",
   "metadata": {},
   "source": [
    "#first model using svc(support vector machine)"
   ]
  },
  {
   "cell_type": "code",
   "execution_count": 508,
   "id": "61129698",
   "metadata": {},
   "outputs": [
    {
     "name": "stdout",
     "output_type": "stream",
     "text": [
      "Accuracy: 0.5681818181818182\n"
     ]
    }
   ],
   "source": [
    "\n",
    "from sklearn.svm import SVC\n",
    "#Import scikit-learn metrics module for accuracy calculation\n",
    "from sklearn import metrics\n",
    "svc=SVC(probability=True, kernel='linear')\n",
    "\n",
    "# Create adaboost classifer object\n",
    "abc =AdaBoostClassifier(n_estimators=50, base_estimator=svc,learning_rate=1)\n",
    "\n",
    "# Train Adaboost Classifer\n",
    "model = abc.fit(X_train, y_train)\n",
    "\n",
    "#Predict the response for test dataset\n",
    "y_pred = model.predict(X_test)\n",
    "\n",
    "\n",
    "# Model Accuracy, how often is the classifier correct?\n",
    "print(\"Accuracy:\",metrics.accuracy_score(y_test, y_pred))\n",
    "z1=metrics.accuracy_score(y_test, y_pred)\n"
   ]
  },
  {
   "cell_type": "code",
   "execution_count": 509,
   "id": "d65d9b97",
   "metadata": {},
   "outputs": [
    {
     "data": {
      "text/plain": [
       "array([[ 6,  0,  0,  0,  0,  0],\n",
       "       [ 0,  0,  3,  0,  0,  0],\n",
       "       [ 0,  0, 19,  0,  0,  0],\n",
       "       [ 0,  0,  5,  0,  0,  0],\n",
       "       [ 0,  0,  9,  0,  0,  0],\n",
       "       [ 0,  0,  2,  0,  0,  0]], dtype=int64)"
      ]
     },
     "execution_count": 509,
     "metadata": {},
     "output_type": "execute_result"
    }
   ],
   "source": [
    "from sklearn import metrics\n",
    "cnf_matrix = metrics.confusion_matrix(y_test, y_pred)\n",
    "cnf_matrix"
   ]
  },
  {
   "cell_type": "markdown",
   "id": "19face37",
   "metadata": {},
   "source": [
    "#second model using decision treee classifier"
   ]
  },
  {
   "cell_type": "code",
   "execution_count": 510,
   "id": "349388e1",
   "metadata": {},
   "outputs": [
    {
     "name": "stdout",
     "output_type": "stream",
     "text": [
      "Accuracy: 0.5\n"
     ]
    }
   ],
   "source": [
    "from sklearn.tree import DecisionTreeClassifier\n",
    "#Import scikit-learn metrics module for accuracy calculation\n",
    "from sklearn import metrics\n",
    "dt1 = DecisionTreeClassifier( max_depth=1)\n",
    "\n",
    "# Create adaboost classifer object\n",
    "abc =AdaBoostClassifier(n_estimators=50, base_estimator=dt1,learning_rate=1)\n",
    "\n",
    "# Train Adaboost Classifer\n",
    "model = abc.fit(X_train, y_train)\n",
    "\n",
    "#Predict the response for test dataset\n",
    "y_pred = model.predict(X_test)\n",
    "\n",
    "\n",
    "# Model Accuracy, how often is the classifier correct?\n",
    "print(\"Accuracy:\",metrics.accuracy_score(y_test, y_pred))\n",
    "z2=metrics.accuracy_score(y_test, y_pred)\n"
   ]
  },
  {
   "cell_type": "markdown",
   "id": "ccaa347e",
   "metadata": {},
   "source": [
    "#using naive bayle"
   ]
  },
  {
   "cell_type": "code",
   "execution_count": 511,
   "id": "a0531423",
   "metadata": {},
   "outputs": [
    {
     "name": "stdout",
     "output_type": "stream",
     "text": [
      "Accuracy: 0.6136363636363636\n"
     ]
    }
   ],
   "source": [
    "from sklearn.naive_bayes import GaussianNB\n",
    "#Import scikit-learn metrics module for accuracy calculation\n",
    "from sklearn import metrics\n",
    "dt2 = GaussianNB()\n",
    "\n",
    "# Create adaboost classifer object\n",
    "abc =AdaBoostClassifier(n_estimators=50, base_estimator=dt2,learning_rate=1)\n",
    "\n",
    "# Train Adaboost Classifer\n",
    "model = abc.fit(X_train, y_train)\n",
    "\n",
    "#Predict the response for test dataset\n",
    "y_pred = model.predict(X_test)\n",
    "\n",
    "\n",
    "# Model Accuracy, how often is the classifier correct?\n",
    "print(\"Accuracy:\",metrics.accuracy_score(y_test, y_pred))\n",
    "z3=metrics.accuracy_score(y_test, y_pred)"
   ]
  },
  {
   "cell_type": "code",
   "execution_count": 512,
   "id": "60af16b6",
   "metadata": {},
   "outputs": [
    {
     "data": {
      "text/plain": [
       "array([[ 6,  0,  0,  0,  0,  0],\n",
       "       [ 0,  3,  0,  0,  0,  0],\n",
       "       [ 0,  0, 16,  0,  3,  0],\n",
       "       [ 0,  0,  4,  1,  0,  0],\n",
       "       [ 0,  1,  7,  0,  1,  0],\n",
       "       [ 0,  0,  2,  0,  0,  0]], dtype=int64)"
      ]
     },
     "execution_count": 512,
     "metadata": {},
     "output_type": "execute_result"
    }
   ],
   "source": [
    "from sklearn import metrics\n",
    "cnf_matrix = metrics.confusion_matrix(y_test, y_pred)\n",
    "cnf_matrix"
   ]
  },
  {
   "cell_type": "markdown",
   "id": "5aa032d6",
   "metadata": {},
   "source": [
    "#using logistic regression"
   ]
  },
  {
   "cell_type": "code",
   "execution_count": 513,
   "id": "cdc769ff",
   "metadata": {},
   "outputs": [
    {
     "name": "stdout",
     "output_type": "stream",
     "text": [
      "Accuracy: 0.7272727272727273\n"
     ]
    }
   ],
   "source": [
    "from sklearn.linear_model import LogisticRegression\n",
    "#Import scikit-learn metrics module for accuracy calculation\n",
    "from sklearn import metrics\n",
    "dt3 = LogisticRegression()\n",
    "\n",
    "# Create adaboost classifer object\n",
    "abc =AdaBoostClassifier(n_estimators=50, base_estimator=dt3,learning_rate=1)\n",
    "\n",
    "# Train Adaboost Classifer\n",
    "model = abc.fit(X_train, y_train)\n",
    "\n",
    "#Predict the response for test dataset\n",
    "y_pred = model.predict(X_test)\n",
    "\n",
    "\n",
    "# Model Accuracy, how often is the classifier correct?\n",
    "print(\"Accuracy:\",metrics.accuracy_score(y_test, y_pred))\n"
   ]
  },
  {
   "cell_type": "code",
   "execution_count": 514,
   "id": "2b826a02",
   "metadata": {},
   "outputs": [
    {
     "data": {
      "text/plain": [
       "array([[6, 0, 0, 0, 0, 0],\n",
       "       [0, 3, 0, 0, 0, 0],\n",
       "       [0, 0, 9, 0, 8, 2],\n",
       "       [0, 0, 0, 5, 0, 0],\n",
       "       [0, 0, 0, 0, 7, 2],\n",
       "       [0, 0, 0, 0, 0, 2]], dtype=int64)"
      ]
     },
     "execution_count": 514,
     "metadata": {},
     "output_type": "execute_result"
    }
   ],
   "source": [
    "from sklearn import metrics\n",
    "cnf_matrix = metrics.confusion_matrix(y_test, y_pred)\n",
    "cnf_matrix"
   ]
  },
  {
   "cell_type": "code",
   "execution_count": 515,
   "id": "08e521dc",
   "metadata": {},
   "outputs": [],
   "source": [
    "z=metrics.accuracy_score(y_test, y_pred)"
   ]
  },
  {
   "cell_type": "code",
   "execution_count": 516,
   "id": "7c9eb972",
   "metadata": {},
   "outputs": [],
   "source": [
    "l = []\n",
    " \n",
    "# create a dictionary with student details\n",
    "final = {1:z1,\n",
    "    2:z2,\n",
    "    3: z3,\n",
    "    4:z\n",
    "           }\n",
    " \n",
    "# append this dictionary to\n",
    "# the empty list using deepcopy() method\n",
    "l.append(final)\n",
    " "
   ]
  },
  {
   "cell_type": "code",
   "execution_count": 517,
   "id": "2a6317e3",
   "metadata": {},
   "outputs": [
    {
     "data": {
      "text/plain": [
       "{1: 0.5681818181818182, 2: 0.5, 3: 0.6136363636363636, 4: 0.7272727272727273}"
      ]
     },
     "execution_count": 517,
     "metadata": {},
     "output_type": "execute_result"
    }
   ],
   "source": [
    "max(l)"
   ]
  },
  {
   "cell_type": "code",
   "execution_count": 518,
   "id": "8372b605",
   "metadata": {},
   "outputs": [
    {
     "name": "stdout",
     "output_type": "stream",
     "text": [
      "The model with maximum  accuracy  is :\n",
      " 4\n"
     ]
    }
   ],
   "source": [
    "import operator\n",
    "MaxKey = max(final.items(), key = operator.itemgetter(1))[0]\n",
    "print(\"The model with maximum  accuracy  is :\\n\",MaxKey)\n",
    "d=MaxKey\n"
   ]
  },
  {
   "cell_type": "code",
   "execution_count": 519,
   "id": "dcd52e81",
   "metadata": {},
   "outputs": [
    {
     "name": "stdout",
     "output_type": "stream",
     "text": [
      "(4, 'logistic')\n"
     ]
    }
   ],
   "source": [
    "\n",
    "models = {1:\"support vector machine\",\n",
    "    2:\"decision tree classifer\",\n",
    "    3: \"naive bayles\",\n",
    "    4:\"logistic\"\n",
    "           }\n",
    "# convert the dictionary to list using items()\n",
    "dictlist = list(models.items())\n",
    "# using indexing we can print the first key value pair of dictionary\n",
    "print( dictlist[d-1])"
   ]
  }
 ],
 "metadata": {
  "kernelspec": {
   "display_name": "Python 3 (ipykernel)",
   "language": "python",
   "name": "python3"
  },
  "language_info": {
   "codemirror_mode": {
    "name": "ipython",
    "version": 3
   },
   "file_extension": ".py",
   "mimetype": "text/x-python",
   "name": "python",
   "nbconvert_exporter": "python",
   "pygments_lexer": "ipython3",
   "version": "3.10.1"
  },
  "vscode": {
   "interpreter": {
    "hash": "59553ecd444ac45b306ef4cf917906ee1e090f0cd110d592cae35eebc5ede51d"
   }
  }
 },
 "nbformat": 4,
 "nbformat_minor": 5
}
