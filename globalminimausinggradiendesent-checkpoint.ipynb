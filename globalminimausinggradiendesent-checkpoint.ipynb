{
 "cells": [
  {
   "cell_type": "code",
   "execution_count": 2,
   "id": "aaf1ae22",
   "metadata": {},
   "outputs": [],
   "source": [
    "import numpy as np\n",
    "import matplotlib.pyplot as plt"
   ]
  },
  {
   "cell_type": "code",
   "execution_count": 3,
   "id": "7f402aa8",
   "metadata": {},
   "outputs": [
    {
     "name": "stdout",
     "output_type": "stream",
     "text": [
      "[-10  -9  -8  -7  -6  -5  -4  -3  -2  -1   0   1   2   3   4   5   6   7\n",
      "   8   9]\n"
     ]
    },
    {
     "data": {
      "text/plain": [
       "array([101,  82,  65,  50,  37,  26,  17,  10,   5,   2,   1,   2,   5,\n",
       "        10,  17,  26,  37,  50,  65,  82])"
      ]
     },
     "execution_count": 3,
     "metadata": {},
     "output_type": "execute_result"
    }
   ],
   "source": [
    "x=np.arange(-10,10)\n",
    "print(x)\n",
    "y=(x**2)+1\n",
    "y\n"
   ]
  },
  {
   "cell_type": "code",
   "execution_count": 4,
   "id": "8946398b",
   "metadata": {},
   "outputs": [
    {
     "data": {
      "image/png": "[encoded data removed]",
      "text/plain": [
       "<Figure size 432x288 with 1 Axes>"
      ]
     },
     "metadata": {
      "needs_background": "light"
     },
     "output_type": "display_data"
    }
   ],
   "source": [
    "plt.plot(x,y)\n",
    "plt.show()\n"
   ]
  },
  {
   "cell_type": "code",
   "execution_count": 5,
   "id": "9b3d7ac5",
   "metadata": {},
   "outputs": [
    {
     "name": "stdout",
     "output_type": "stream",
     "text": [
      "global mininum occurs at: 2.4\n",
      "global mininum occurs at: 1.92\n",
      "global mininum occurs at: 1.536\n",
      "global mininum occurs at: 1.2288000000000001\n",
      "global mininum occurs at: 0.9830400000000001\n",
      "global mininum occurs at: 0.7864320000000001\n",
      "global mininum occurs at: 0.6291456000000001\n",
      "global mininum occurs at: 0.5033164800000001\n",
      "global mininum occurs at: 0.40265318400000005\n",
      "global mininum occurs at: 0.32212254720000005\n",
      "global mininum occurs at: 0.25769803776000005\n",
      "global mininum occurs at: 0.20615843020800004\n",
      "global mininum occurs at: 0.16492674416640002\n",
      "global mininum occurs at: 0.13194139533312002\n",
      "global mininum occurs at: 0.10555311626649602\n",
      "global mininum occurs at: 0.08444249301319681\n",
      "global mininum occurs at: 0.06755399441055746\n",
      "global mininum occurs at: 0.05404319552844596\n",
      "global mininum occurs at: 0.04323455642275677\n",
      "global mininum occurs at: 0.03458764513820541\n",
      "global mininum occurs at: 0.02767011611056433\n",
      "global mininum occurs at: 0.022136092888451465\n",
      "global mininum occurs at: 0.017708874310761173\n",
      "global mininum occurs at: 0.014167099448608939\n",
      "global mininum occurs at: 0.011333679558887151\n",
      "global mininum occurs at: 0.009066943647109721\n",
      "global mininum occurs at: 0.007253554917687777\n",
      "global mininum occurs at: 0.005802843934150222\n",
      "global mininum occurs at: 0.004642275147320177\n",
      "global mininum occurs at: 0.003713820117856142\n"
     ]
    }
   ],
   "source": [
    "#def gradient desent\n",
    "new_x=3\n",
    "previous_x=1\n",
    "learningrate=0.1\n",
    "for n in range(30):\n",
    "    previous_x=new_x\n",
    "    gradient=2*previous_x # differentciation of x*2+1 to find minima\n",
    "    new_x=previous_x-learningrate *gradient\n",
    "    print(\"global mininum occurs at:\",new_x)\n"
   ]
  },
  {
   "cell_type": "code",
   "execution_count": 6,
   "id": "e1d41788",
   "metadata": {},
   "outputs": [],
   "source": [
    "# second function\n",
    "#2x-3x*3+x*4\n",
    "import numpy as np\n",
    "import matplotlib.pyplot as plt"
   ]
  },
  {
   "cell_type": "code",
   "execution_count": 7,
   "id": "e96834ed",
   "metadata": {},
   "outputs": [
    {
     "name": "stdout",
     "output_type": "stream",
     "text": [
      "[-10  -9  -8  -7  -6  -5  -4  -3  -2  -1   0   1   2   3   4   5   6   7\n",
      "   8   9]\n"
     ]
    },
    {
     "data": {
      "text/plain": [
       "array([12980,  8730,  5616,  3416,  1932,   990,   440,   156,    36,\n",
       "           2,     0,     0,    -4,     6,    72,   260,   660,  1386,\n",
       "        2576,  4392])"
      ]
     },
     "execution_count": 7,
     "metadata": {},
     "output_type": "execute_result"
    }
   ],
   "source": [
    "x=np.arange(-10,10)\n",
    "print(x)\n",
    "y=2*x-3*((x)**3)+(x)**4\n",
    "y\n"
   ]
  },
  {
   "cell_type": "code",
   "execution_count": 8,
   "id": "099eecbc",
   "metadata": {},
   "outputs": [
    {
     "data": {
      "image/png": "[encoded data removed]",
      "text/plain": [
       "<Figure size 432x288 with 1 Axes>"
      ]
     },
     "metadata": {
      "needs_background": "light"
     },
     "output_type": "display_data"
    }
   ],
   "source": [
    "plt.plot(x,y)\n",
    "plt.show()"
   ]
  },
  {
   "cell_type": "code",
   "execution_count": 9,
   "id": "f704abba",
   "metadata": {},
   "outputs": [
    {
     "name": "stdout",
     "output_type": "stream",
     "text": [
      "global mininum occurs at: 1.011\n",
      "global mininum occurs at: 1.0223325463239998\n",
      "global mininum occurs at: 1.0340130408616226\n",
      "global mininum occurs at: 1.0460578841103652\n",
      "global mininum occurs at: 1.0584845593517829\n",
      "global mininum occurs at: 1.0713117256222366\n",
      "global mininum occurs at: 1.0845593205811581\n",
      "global mininum occurs at: 1.0982486745420674\n",
      "global mininum occurs at: 1.112402637121392\n",
      "global mininum occurs at: 1.1270457181828089\n",
      "global mininum occurs at: 1.142204245016822\n",
      "global mininum occurs at: 1.15790653800452\n",
      "global mininum occurs at: 1.174183107380627\n",
      "global mininum occurs at: 1.1910668741460184\n",
      "global mininum occurs at: 1.2085934186985936\n",
      "global mininum occurs at: 1.2268012613721537\n",
      "global mininum occurs at: 1.2457321798186038\n",
      "global mininum occurs at: 1.2654315690681184\n",
      "global mininum occurs at: 1.2859488511910353\n",
      "global mininum occurs at: 1.3073379428099758\n",
      "global mininum occurs at: 1.3296577903293287\n",
      "global mininum occurs at: 1.3529729847364174\n",
      "global mininum occurs at: 1.37735447028049\n",
      "global mininum occurs at: 1.4028803643766519\n",
      "global mininum occurs at: 1.4296369098743429\n",
      "global mininum occurs at: 1.4577195855871306\n",
      "global mininum occurs at: 1.4872344069842633\n",
      "global mininum occurs at: 1.5182994565701269\n",
      "global mininum occurs at: 1.5510466932296685\n",
      "global mininum occurs at: 1.5856241023788158\n",
      "global mininum occurs at: 1.622198265061735\n",
      "global mininum occurs at: 1.6609574454679452\n",
      "global mininum occurs at: 1.7021153244938325\n",
      "global mininum occurs at: 1.7459155444678236\n",
      "global mininum occurs at: 1.7926372805885022\n",
      "global mininum occurs at: 1.8426021231672256\n",
      "global mininum occurs at: 1.8961826489794178\n",
      "global mininum occurs at: 1.9538131911007621\n",
      "global mininum occurs at: 2.016003501349923\n",
      "global mininum occurs at: 2.083356263555905\n",
      "global mininum occurs at: 2.1565897992210354\n",
      "global mininum occurs at: 2.2365678729641316\n",
      "global mininum occurs at: 2.3243393556012646\n",
      "global mininum occurs at: 2.4211918068865317\n",
      "global mininum occurs at: 2.5287250844076388\n",
      "global mininum occurs at: 2.64895436943282\n",
      "global mininum occurs at: 2.7844574221707026\n",
      "global mininum occurs at: 2.938590106462846\n",
      "global mininum occurs at: 3.115810480236091\n",
      "global mininum occurs at: 3.322181534096136\n"
     ]
    }
   ],
   "source": [
    "x=1\n",
    "learningrate=0.001\n",
    "for n in range(50):\n",
    "    gradient=2-(9*((x)**2)+4*((x)**3)) # differentciation of  to find minima 2*x-3*((x)**3)+(x)**4\n",
    "    x=x-learningrate *gradient\n",
    "    print(\"global mininum occurs at:\",x)"
   ]
  },
  {
   "cell_type": "code",
   "execution_count": 10,
   "id": "3c0cb010",
   "metadata": {},
   "outputs": [],
   "source": [
    "x=np.arange(-10,10)"
   ]
  },
  {
   "cell_type": "code",
   "execution_count": 1,
   "id": "7a2f2302",
   "metadata": {},
   "outputs": [],
   "source": [
    "import numpy as np\n",
    "import matplotlib.pyplot as plt\n",
    "list=[]\n",
    "\n"
   ]
  },
  {
   "cell_type": "code",
   "execution_count": 2,
   "id": "bc4dba5b",
   "metadata": {},
   "outputs": [
    {
     "name": "stdout",
     "output_type": "stream",
     "text": [
      "[[24 31]\n",
      " [36 89]]\n",
      "45.0\n",
      "[[37 57]\n",
      " [30 45]]\n",
      "42.25\n",
      "[[40 24]\n",
      " [77 27]]\n",
      "42.0\n",
      "[[21 23]\n",
      " [57 55]]\n",
      "39.0\n",
      "[[42 28]\n",
      " [47 41]]\n",
      "39.5\n",
      "[[27 25]\n",
      " [94 74]]\n",
      "55.0\n",
      "[[32 34]\n",
      " [53 28]]\n",
      "36.75\n",
      "[[ 72 129]\n",
      " [ 70 108]]\n",
      "94.75\n",
      "[[57 59]\n",
      " [36 54]]\n",
      "51.5\n",
      "[[ 71 106]\n",
      " [ 65  70]]\n",
      "78.0\n",
      "[[ 88 132]\n",
      " [ 44 112]]\n",
      "94.0\n",
      "[[54 67]\n",
      " [46 42]]\n",
      "52.25\n",
      "[[56 32]\n",
      " [62 30]]\n",
      "45.0\n",
      "[[ 86  48]\n",
      " [110  48]]\n",
      "73.0\n",
      "[[ 8 20]\n",
      " [ 6 39]]\n",
      "18.25\n",
      "[[ 75  73]\n",
      " [107  95]]\n",
      "87.5\n",
      "[[54 39]\n",
      " [70 93]]\n",
      "64.0\n",
      "[[62 36]\n",
      " [54  9]]\n",
      "40.25\n",
      "[[52 90]\n",
      " [ 8  9]]\n",
      "39.75\n",
      "[[47 77]\n",
      " [35 89]]\n",
      "62.0\n",
      "[45.0, 42.25, 42.0, 39.0, 39.5, 55.0, 36.75, 94.75, 51.5, 78.0, 94.0, 52.25, 45.0, 73.0, 18.25, 87.5, 64.0, 40.25, 39.75, 62.0]\n"
     ]
    },
    {
     "data": {
      "text/plain": [
       "[<matplotlib.lines.Line2D at 0x2400fadf460>]"
      ]
     },
     "execution_count": 2,
     "metadata": {},
     "output_type": "execute_result"
    },
    {
     "data": {
      "image/png": "[encoded data removed]",
      "text/plain": [
       "<Figure size 432x288 with 1 Axes>"
      ]
     },
     "metadata": {
      "needs_background": "light"
     },
     "output_type": "display_data"
    }
   ],
   "source": [
    "x_data=x=np.arange(-10,10)\n",
    "for i in range(0,20):\n",
    "  array1 = np.random.randint(10, size=(2, 3))\n",
    "  array2 = np.random.randint(10, size=(3, 2))\n",
    "  result = np.dot(array1, array2)\n",
    "# printing the result\n",
    "  print(result)\n",
    "  print(result.mean())\n",
    "  list.append(result.mean())\n",
    "print(list)\n",
    "y_data=list\n",
    "plt.plot(x_data,y_data)"
   ]
  },
  {
   "cell_type": "code",
   "execution_count": null,
   "id": "7e598f27",
   "metadata": {},
   "outputs": [],
   "source": [
    "x_data=x=np.arange(-10,10)\n",
    "for i in range(0,20):\n",
    "  array1 = np.random.randint(10, size=(2, 3))\n",
    "  array2 = np.random.randint(10, size=(3, 2))\n",
    "  result = np.dot(array1, array2)\n",
    "# printing the result\n",
    "  print(result)\n",
    "  print(result.mean())\n",
    "  list.append(result.mean())\n",
    "print(list)\n",
    "y_data=list\n",
    "plt.plot(x_data,y_data)"
   ]
  }
 ],
 "metadata": {
  "kernelspec": {
   "display_name": "Python 3.10.1 64-bit",
   "language": "python",
   "name": "python3"
  },
  "language_info": {
   "codemirror_mode": {
    "name": "ipython",
    "version": 3
   },
   "file_extension": ".py",
   "mimetype": "text/x-python",
   "name": "python",
   "nbconvert_exporter": "python",
   "pygments_lexer": "ipython3",
   "version": "3.10.1"
  },
  "vscode": {
   "interpreter": {
    "hash": "59553ecd444ac45b306ef4cf917906ee1e090f0cd110d592cae35eebc5ede51d"
   }
  }
 },
 "nbformat": 4,
 "nbformat_minor": 5
}
