{
 "cells": [
  {
   "cell_type": "code",
   "execution_count": 16,
   "id": "fd39c3a3",
   "metadata": {},
   "outputs": [
    {
     "name": "stdout",
     "output_type": "stream",
     "text": [
      "    Age(X)  EstimatedSalary(Y)\n",
      "0       19               19000\n",
      "1       35               20000\n",
      "2       26               43000\n",
      "3       27               57000\n",
      "4       19               76000\n",
      "..     ...                 ...\n",
      "75      34              112000\n",
      "76      18               52000\n",
      "77      22               27000\n",
      "78      28               87000\n",
      "79      26               17000\n",
      "\n",
      "[80 rows x 2 columns]\n"
     ]
    },
    {
     "data": {
      "text/html": [
       "<div>\n",
       "<style scoped>\n",
       "    .dataframe tbody tr th:only-of-type {\n",
       "        vertical-align: middle;\n",
       "    }\n",
       "\n",
       "    .dataframe tbody tr th {\n",
       "        vertical-align: top;\n",
       "    }\n",
       "\n",
       "    .dataframe thead th {\n",
       "        text-align: right;\n",
       "    }\n",
       "</style>\n",
       "<table border=\"1\" class=\"dataframe\">\n",
       "  <thead>\n",
       "    <tr style=\"text-align: right;\">\n",
       "      <th></th>\n",
       "      <th>Age(X)</th>\n",
       "      <th>EstimatedSalary(Y)</th>\n",
       "    </tr>\n",
       "  </thead>\n",
       "  <tbody>\n",
       "    <tr>\n",
       "      <th>0</th>\n",
       "      <td>19</td>\n",
       "      <td>19000</td>\n",
       "    </tr>\n",
       "    <tr>\n",
       "      <th>1</th>\n",
       "      <td>35</td>\n",
       "      <td>20000</td>\n",
       "    </tr>\n",
       "    <tr>\n",
       "      <th>2</th>\n",
       "      <td>26</td>\n",
       "      <td>43000</td>\n",
       "    </tr>\n",
       "    <tr>\n",
       "      <th>3</th>\n",
       "      <td>27</td>\n",
       "      <td>57000</td>\n",
       "    </tr>\n",
       "    <tr>\n",
       "      <th>4</th>\n",
       "      <td>19</td>\n",
       "      <td>76000</td>\n",
       "    </tr>\n",
       "  </tbody>\n",
       "</table>\n",
       "</div>"
      ],
      "text/plain": [
       "   Age(X)  EstimatedSalary(Y)\n",
       "0      19               19000\n",
       "1      35               20000\n",
       "2      26               43000\n",
       "3      27               57000\n",
       "4      19               76000"
      ]
     },
     "execution_count": 16,
     "metadata": {},
     "output_type": "execute_result"
    }
   ],
   "source": [
    "import numpy as np\n",
    "import pandas as pd\n",
    "import matplotlib.pyplot as plt\n",
    "\n",
    "data=pd.read_csv(\"Linear Regression Train.csv\")\n",
    "print(data)\n",
    "data.head()"
   ]
  },
  {
   "cell_type": "code",
   "execution_count": 17,
   "id": "6eb91dc8",
   "metadata": {},
   "outputs": [
    {
     "name": "stdout",
     "output_type": "stream",
     "text": [
      "[19 35 26 27 19 27 27 32 25 35 26 26 20 32 18 29 47 45 46 48 45 47 48 45\n",
      " 46 47 49 47 29 31 31 27 21 28 27 35 33 30 26 27 27 33 35 30 28 23 25 27\n",
      " 30 31 24 18 29 35 27 24 23 28 22 32 27 25 23 32 59 24 24 23 22 31 25 24\n",
      " 20 33 32 34 18 22 28 26]\n"
     ]
    }
   ],
   "source": [
    "#collecting x and y\n",
    "X=data['Age(X)'].values\n",
    "print(X)\n"
   ]
  },
  {
   "cell_type": "code",
   "execution_count": 18,
   "id": "6d4f6115",
   "metadata": {},
   "outputs": [
    {
     "name": "stdout",
     "output_type": "stream",
     "text": [
      "[ 19000  20000  43000  57000  76000  58000  84000 150000  33000  65000\n",
      "  80000  52000  86000  18000  82000  80000  25000  26000  28000  29000\n",
      "  22000  49000  41000  22000  23000  20000  28000  30000  43000  18000\n",
      "  74000 137000  16000  44000  90000  27000  28000  49000  72000  31000\n",
      "  17000  51000 108000  15000  84000  20000  79000  54000 135000  89000\n",
      "  32000  44000  83000  23000  58000  55000  48000  79000  18000 117000\n",
      "  20000  87000  66000 120000  83000  58000  19000  82000  63000  68000\n",
      "  80000  27000  23000 113000  18000 112000  52000  27000  87000  17000]\n"
     ]
    }
   ],
   "source": [
    "Y=data['EstimatedSalary(Y)'].values\n",
    "print(Y)"
   ]
  },
  {
   "cell_type": "code",
   "execution_count": 19,
   "id": "13100041",
   "metadata": {},
   "outputs": [],
   "source": [
    "from sklearn.model_selection import train_test_split"
   ]
  },
  {
   "cell_type": "code",
   "execution_count": 27,
   "id": "2e97f78f",
   "metadata": {},
   "outputs": [],
   "source": [
    "X_train,X_test,Y_train,Y_test=train_test_split(X,Y,test_size=0.2)\n"
   ]
  },
  {
   "cell_type": "code",
   "execution_count": 38,
   "id": "b3ed61a6",
   "metadata": {},
   "outputs": [
    {
     "name": "stdout",
     "output_type": "stream",
     "text": [
      "-514.7960731801435 71827.3370943644\n"
     ]
    }
   ],
   "source": [
    "mean_X_train =np.mean(X_train)\n",
    "mean_Y_train=np.mean(Y_train)\n",
    "\n",
    "#total no.of values\n",
    "m=len(X)\n",
    "\n",
    "\n",
    "numer=0\n",
    "denom=0\n",
    "for i in range(m):\n",
    "    numer+=(X[i]-mean_X_train)*(Y[i]-mean_Y_train)\n",
    "    denom+=(X[i]-mean_X_train)**2\n",
    "b1=numer/denom\n",
    "b0=mean_Y_train-(b1*mean_X_train)\n",
    "\n",
    "\n",
    "print(b1,b0) #value of m and "
   ]
  },
  {
   "cell_type": "code",
   "execution_count": 39,
   "id": "20bdfd63",
   "metadata": {},
   "outputs": [
    {
     "data": {
      "text/plain": [
       "56"
      ]
     },
     "execution_count": 39,
     "metadata": {},
     "output_type": "execute_result"
    }
   ],
   "source": [
    "len(X_train)"
   ]
  },
  {
   "cell_type": "code",
   "execution_count": 23,
   "id": "89f3a3ac",
   "metadata": {},
   "outputs": [
    {
     "data": {
      "text/plain": [
       "16"
      ]
     },
     "execution_count": 23,
     "metadata": {},
     "output_type": "execute_result"
    }
   ],
   "source": [
    "len(X_test)"
   ]
  },
  {
   "cell_type": "code",
   "execution_count": 40,
   "id": "c95e900d",
   "metadata": {},
   "outputs": [],
   "source": [
    "max_X_train=np.max(X_train)+100\n",
    "min_X_train=np.max(X_train)-100"
   ]
  },
  {
   "cell_type": "code",
   "execution_count": 41,
   "id": "e16bc3e1",
   "metadata": {},
   "outputs": [],
   "source": [
    "#calculating line value x and y\n",
    "x=np.linspace(min_X_train,max_X_train,1000)\n",
    "y=b0+b1*x"
   ]
  },
  {
   "cell_type": "code",
   "execution_count": 43,
   "id": "aec401d5",
   "metadata": {},
   "outputs": [
    {
     "name": "stdout",
     "output_type": "stream",
     "text": [
      "Error 33409.2763808269\n"
     ]
    },
    {
     "data": {
      "image/png": "[encoded data removed]",
      "text/plain": [
       "<Figure size 432x288 with 1 Axes>"
      ]
     },
     "metadata": {
      "needs_background": "light"
     },
     "output_type": "display_data"
    }
   ],
   "source": [
    "plt.plot(x,y,color='#58b970',label='Regression Line')\n",
    "plt.scatter(X_train,Y_train,c='#ef5423',label='train Plot') #train points\n",
    "plt.scatter(X_test,Y_test,c='#0000ff',label='test Plot') #test points\n",
    "\n",
    "Y_pred = []\n",
    "for i in range(m):\n",
    "  y_pred = b0+b1*X[i]\n",
    "  Y_pred.append(y_pred)\n",
    "plt.scatter(X, Y_pred, c='#000000', label= 'Predicted Points') #Estimated points are on the Regression line\n",
    "plt.xlabel('Age(X)')\n",
    "plt.ylabel('stimatedSalary(Y)')\n",
    "#error calculation\n",
    "#root mean square method\n",
    "sum = 0\n",
    "import math\n",
    "for i in range(m):\n",
    "  a = (Y_pred[i]-Y[i])**2\n",
    "  sum+= a\n",
    "error = math.sqrt(sum/(m-2))\n",
    "print(\"Error\",error)\n",
    "plt.xlabel(\"Age(X)\")\n",
    "plt.ylabel(\"EstimatedSalary(Y)\")\n",
    "plt.legend()\n",
    "plt.show()"
   ]
  },
  {
   "cell_type": "code",
   "execution_count": null,
   "id": "b9b72530",
   "metadata": {},
   "outputs": [],
   "source": []
  }
 ],
 "metadata": {
  "kernelspec": {
   "display_name": "Python 3.10.1 64-bit",
   "language": "python",
   "name": "python3"
  },
  "language_info": {
   "codemirror_mode": {
    "name": "ipython",
    "version": 3
   },
   "file_extension": ".py",
   "mimetype": "text/x-python",
   "name": "python",
   "nbconvert_exporter": "python",
   "pygments_lexer": "ipython3",
   "version": "3.10.1"
  },
  "vscode": {
   "interpreter": {
    "hash": "59553ecd444ac45b306ef4cf917906ee1e090f0cd110d592cae35eebc5ede51d"
   }
  }
 },
 "nbformat": 4,
 "nbformat_minor": 5
}
