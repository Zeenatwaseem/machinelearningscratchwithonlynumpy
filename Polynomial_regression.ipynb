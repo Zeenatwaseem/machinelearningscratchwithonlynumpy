{
  "cells": [
    {
      "cell_type": "code",
      "execution_count": 89,
      "metadata": {
        "id": "Sql1enS3Z7Wt"
      },
      "outputs": [],
      "source": [
        "import numpy as np\n",
        "import pandas as pd\n",
        "import math"
      ]
    },
    {
      "cell_type": "code",
      "execution_count": 90,
      "metadata": {
        "colab": {
          "base_uri": "https://localhost:8080/",
          "height": 279
        },
        "id": "tsVuMWdTnowt",
        "outputId": "19c539a7-a459-4c36-de3b-b56141d33b53"
      },
      "outputs": [
        {
          "data": {
            "image/png": "[encoded data removed]",
            "text/plain": [
              "<Figure size 432x288 with 1 Axes>"
            ]
          },
          "metadata": {
            "needs_background": "light"
          },
          "output_type": "display_data"
        }
      ],
      "source": [
        "import matplotlib.pyplot as plt\n",
        "\n",
        "X = np.arange(-5,5,0.2)\n",
        "y=1*(X**3)+1\n",
        "\n",
        "y_noise=10*np.random.normal(size=len(X))\n",
        "y=y+y_noise\n",
        "# Lets initialize our polynomial model\n",
        "\n",
        "\n",
        "plt.xlabel(\"X\")\n",
        "plt.ylabel(\"Y\")\n",
        "plt.scatter(X,y, s=30)\n",
        "plt.show()\n"
      ]
    },
    {
      "cell_type": "code",
      "execution_count": 91,
      "metadata": {
        "colab": {
          "base_uri": "https://localhost:8080/"
        },
        "id": "CrSVbo2goEii",
        "outputId": "3f7a4c0a-8709-4232-cfef-9735f35507de"
      },
      "outputs": [
        {
          "name": "stdout",
          "output_type": "stream",
          "text": [
            "[-5.0000000e+00 -4.8000000e+00 -4.6000000e+00 -4.4000000e+00\n",
            " -4.2000000e+00 -4.0000000e+00 -3.8000000e+00 -3.6000000e+00\n",
            " -3.4000000e+00 -3.2000000e+00 -3.0000000e+00 -2.8000000e+00\n",
            " -2.6000000e+00 -2.4000000e+00 -2.2000000e+00 -2.0000000e+00\n",
            " -1.8000000e+00 -1.6000000e+00 -1.4000000e+00 -1.2000000e+00\n",
            " -1.0000000e+00 -8.0000000e-01 -6.0000000e-01 -4.0000000e-01\n",
            " -2.0000000e-01  4.4408921e-15  2.0000000e-01  4.0000000e-01\n",
            "  6.0000000e-01  8.0000000e-01  1.0000000e+00  1.2000000e+00\n",
            "  1.4000000e+00  1.6000000e+00  1.8000000e+00  2.0000000e+00\n",
            "  2.2000000e+00  2.4000000e+00  2.6000000e+00  2.8000000e+00\n",
            "  3.0000000e+00  3.2000000e+00  3.4000000e+00  3.6000000e+00\n",
            "  3.8000000e+00  4.0000000e+00  4.2000000e+00  4.4000000e+00\n",
            "  4.6000000e+00  4.8000000e+00]\n"
          ]
        }
      ],
      "source": [
        "print(X)"
      ]
    },
    {
      "cell_type": "code",
      "execution_count": 92,
      "metadata": {
        "colab": {
          "base_uri": "https://localhost:8080/"
        },
        "id": "bzYpDNetv_Zu",
        "outputId": "8cddc132-9f9d-4774-d18d-052b246519f2"
      },
      "outputs": [
        {
          "name": "stdout",
          "output_type": "stream",
          "text": [
            "[-129.31275975  -95.69933947  -92.58149235  -74.06160393  -64.50680391\n",
            "  -83.03098896  -31.4212221   -25.31872243  -18.74855933  -31.55611028\n",
            "  -29.26628435  -35.2917674   -16.22489096  -18.64627728  -11.34595128\n",
            "   -1.82294112    7.14427953   -9.48488653    7.11664284   -3.21769524\n",
            "    3.58133784   -5.32852066   -8.89747058   19.0539183   -13.18583732\n",
            "   -7.05481442  -11.86032458   -2.10972191   14.75429677    4.96368849\n",
            "    5.16868439   -3.07467711   -1.2842818    -5.98268017   -1.16417279\n",
            "    8.1189041    23.27343979   15.34710644   36.27838331   28.34537563\n",
            "   30.88141322   50.8514731    38.48419506   69.72299419   41.47435504\n",
            "   71.2756301    79.51415692   79.17986147  102.45275139  104.99240297]\n"
          ]
        }
      ],
      "source": [
        "print(y)"
      ]
    },
    {
      "cell_type": "code",
      "execution_count": 93,
      "metadata": {
        "id": "K-eFgrtCQ8cy"
      },
      "outputs": [],
      "source": [
        "X1=X\n",
        "X2=np.power(X1,2)\n",
        "X3=np.power(X1,3)"
      ]
    },
    {
      "cell_type": "code",
      "execution_count": 94,
      "metadata": {
        "id": "TGy8pwmNYSN5"
      },
      "outputs": [],
      "source": [
        "omega_0= -1.49      #theta1\n",
        "omega_1= 1.20    #theta2\n",
        "omega_2= 1.39   #theta3\n",
        "omega_3= 1.03   #theta4\n"
      ]
    },
    {
      "cell_type": "code",
      "execution_count": 95,
      "metadata": {
        "colab": {
          "base_uri": "https://localhost:8080/",
          "height": 283
        },
        "id": "YTillIcUW8yT",
        "outputId": "ed8186b0-fd6e-4657-8585-1a0736b97446"
      },
      "outputs": [
        {
          "data": {
            "text/plain": [
              "[<matplotlib.lines.Line2D at 0x20729eb9c60>]"
            ]
          },
          "execution_count": 95,
          "metadata": {},
          "output_type": "execute_result"
        },
        {
          "data": {
            "image/png": "[encoded data removed]",
            "text/plain": [
              "<Figure size 432x288 with 1 Axes>"
            ]
          },
          "metadata": {
            "needs_background": "light"
          },
          "output_type": "display_data"
        }
      ],
      "source": [
        "plt.scatter(X,y)\n",
        "plt.plot(X,omega_0+omega_1*X1+omega_2*X2+omega_3*X3 , c=\"red\")"
      ]
    },
    {
      "cell_type": "code",
      "execution_count": 96,
      "metadata": {
        "id": "mpHbZZHFXBMz"
      },
      "outputs": [],
      "source": [
        "def prediction(X1,X2,X3,omega_0,omega_1,omega_2,omega_3):\n",
        "  y_pred= omega_0+omega_1*X1+omega_2*X2+omega_3*X3\n",
        "\n",
        "  return y_pred"
      ]
    },
    {
      "cell_type": "code",
      "execution_count": 97,
      "metadata": {
        "id": "OJ7G1dMfljJt"
      },
      "outputs": [],
      "source": [
        "pred=prediction(X1,X2,X3,omega_0,omega_1,omega_2,omega_3)"
      ]
    },
    {
      "cell_type": "code",
      "execution_count": 98,
      "metadata": {
        "id": "lz5NaKaZk2lr"
      },
      "outputs": [],
      "source": [
        "def err(y_pred,y):\n",
        "  var=(y-y_pred)\n",
        "  var=var*var\n",
        "  n=len(var)\n",
        "\n",
        "  MSE=var.sum()\n",
        "  MSE=MSE/n\n",
        "  return MSE\n"
      ]
    },
    {
      "cell_type": "code",
      "execution_count": 99,
      "metadata": {
        "colab": {
          "base_uri": "https://localhost:8080/"
        },
        "id": "BvUXvj6hfJUv",
        "outputId": "875984d2-b6e5-4570-adae-e38c9b93bfc1"
      },
      "outputs": [
        {
          "data": {
            "text/plain": [
              "255.54518159464212"
            ]
          },
          "execution_count": 99,
          "metadata": {},
          "output_type": "execute_result"
        }
      ],
      "source": [
        "error = err(pred,y)\n",
        "error"
      ]
    },
    {
      "cell_type": "markdown",
      "metadata": {
        "id": "wMtI3M96fJJM"
      },
      "source": []
    }
  ],
  "metadata": {
    "colab": {
      "name": "Polynomial regression.ipynb",
      "provenance": []
    },
    "interpreter": {
      "hash": "59553ecd444ac45b306ef4cf917906ee1e090f0cd110d592cae35eebc5ede51d"
    },
    "kernelspec": {
      "display_name": "Python 3.10.1 64-bit",
      "language": "python",
      "name": "python3"
    },
    "language_info": {
      "codemirror_mode": {
        "name": "ipython",
        "version": 3
      },
      "file_extension": ".py",
      "mimetype": "text/x-python",
      "name": "python",
      "nbconvert_exporter": "python",
      "pygments_lexer": "ipython3",
      "version": "3.10.1"
    }
  },
  "nbformat": 4,
  "nbformat_minor": 0
}
